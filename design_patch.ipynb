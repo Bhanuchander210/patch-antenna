{
 "cells": [
  {
   "cell_type": "code",
   "execution_count": 1,
   "metadata": {},
   "outputs": [],
   "source": [
    "%matplotlib inline "
   ]
  },
  {
   "cell_type": "code",
   "execution_count": 2,
   "metadata": {},
   "outputs": [
    {
     "data": {
      "text/html": [
       "<script type=\"text/javascript\">window.PlotlyConfig = {MathJaxConfig: 'local'};</script><script type=\"text/javascript\">if (window.MathJax) {MathJax.Hub.Config({SVG: {font: \"STIX-Web\"}});}</script><script>requirejs.config({paths: { 'plotly': ['https://cdn.plot.ly/plotly-latest.min']},});if(!window._Plotly) {require(['plotly'],function(plotly) {window._Plotly=plotly;});}</script>"
      ]
     },
     "metadata": {},
     "output_type": "execute_result"
    }
   ],
   "source": [
    "import os\n",
    "import sys\n",
    "\n",
    "scriptpath = \"patch.py\"\n",
    "\n",
    "sys.path.append(os.path.abspath(scriptpath))\n",
    "\n",
    "# Do the import\n",
    "from patch import DesignPatch, inputImpedance, insetFeedPosition, getDirectivity, PatchEHPlanePlot, SurfacePlot, getGs"
   ]
  },
  {
   "cell_type": "code",
   "execution_count": 3,
   "metadata": {},
   "outputs": [
    {
     "name": "stdout",
     "output_type": "stream",
     "text": [
      "Rectangular Microstrip Patch Design\n",
      "Frequency: 2400000000.0\n",
      "Dielec Const, Er : 4.4\n",
      "Patch Width,  W: 0.0380362887156m\n",
      "Patch Length,  L: 0.0294423612179m\n",
      "Patch Height,  h: 0.0016m\n"
     ]
    }
   ],
   "source": [
    "freq = 2.4e9\n",
    "Er = 4.4                                                          \n",
    "h = 1.6* 10 ** -3\n",
    "v = 3 * 10 ** 8\n",
    "\n",
    "W, L = DesignPatch(Er, h, freq)"
   ]
  },
  {
   "cell_type": "code",
   "execution_count": 4,
   "metadata": {},
   "outputs": [
    {
     "name": "stdout",
     "output_type": "stream",
     "text": [
      "Input Impedance: 321.502648844 ohms\n",
      "Inset Feed Position :  0.0109221252235\n"
     ]
    }
   ],
   "source": [
    "Rin = inputImpedance(freq, W, L, h, Er)  \n",
    "\n",
    "print 'Inset Feed Position : ', insetFeedPosition(Rin, L)"
   ]
  },
  {
   "cell_type": "code",
   "execution_count": 5,
   "metadata": {},
   "outputs": [
    {
     "name": "stdout",
     "output_type": "stream",
     "text": [
      "G1 :  0.000969285496339\n",
      "G12 :  0.00058591164371\n"
     ]
    }
   ],
   "source": [
    "G1, G12 = getGs(freq, W, L)\n",
    "\n",
    "print 'G1 : ', G1\n",
    "\n",
    "print 'G12 : ', G12\n",
    "\n",
    "I1=1.863\n",
    "\n",
    "I2=3.59801"
   ]
  },
  {
   "cell_type": "code",
   "execution_count": 6,
   "metadata": {},
   "outputs": [
    {
     "name": "stdout",
     "output_type": "stream",
     "text": [
      "Directivity :  3.88419387395  dB\n",
      "Directivity :  5.04023487871  dB\n"
     ]
    }
   ],
   "source": [
    "d1, d2 = getDirectivity(G1, G12, W, freq, I1 , I2)                            \n",
    "\n",
    "print 'Directivity : ', d1, ' dB'\n",
    "print 'Directivity : ', d2, ' dB'"
   ]
  },
  {
   "cell_type": "code",
   "execution_count": 7,
   "metadata": {},
   "outputs": [
    {
     "data": {
      "image/png": "[encoded data removed]",
      "text/plain": [
       "<Figure size 432x288 with 1 Axes>"
      ]
     },
     "metadata": {
      "needs_background": "light"
     },
     "output_type": "display_data"
    }
   ],
   "source": [
    "fields = PatchEHPlanePlot(freq, W, L, h, Er)"
   ]
  },
  {
   "cell_type": "code",
   "execution_count": 8,
   "metadata": {},
   "outputs": [
    {
     "name": "stdout",
     "output_type": "stream",
     "text": [
      "Processing SurfacePlot...\n"
     ]
    }
   ],
   "source": [
    "SurfacePlot(fields, freq, W, L, h, Er)"
   ]
  },
  {
   "cell_type": "code",
   "execution_count": null,
   "metadata": {},
   "outputs": [],
   "source": []
  }
 ],
 "metadata": {
  "kernelspec": {
   "display_name": "Python 2",
   "language": "python",
   "name": "python2"
  },
  "language_info": {
   "codemirror_mode": {
    "name": "ipython",
    "version": 2
   },
   "file_extension": ".py",
   "mimetype": "text/x-python",
   "name": "python",
   "nbconvert_exporter": "python",
   "pygments_lexer": "ipython2",
   "version": "2.7.15"
  }
 },
 "nbformat": 4,
 "nbformat_minor": 1
}
